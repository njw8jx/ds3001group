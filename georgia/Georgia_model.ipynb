{
  "nbformat": 4,
  "nbformat_minor": 0,
  "metadata": {
    "colab": {
      "provenance": []
    },
    "kernelspec": {
      "name": "python3",
      "display_name": "Python 3"
    },
    "language_info": {
      "name": "python"
    }
  },
  "cells": [
    {
      "cell_type": "code",
      "source": [
        "# Packages\n",
        "\n",
        "import pandas as pd\n",
        "import numpy as np\n",
        "import matplotlib.pyplot as plt\n",
        "import seaborn as sns"
      ],
      "metadata": {
        "id": "vg6exqb1zFtu"
      },
      "execution_count": 17,
      "outputs": []
    },
    {
      "cell_type": "code",
      "execution_count": 18,
      "metadata": {
        "colab": {
          "base_uri": "https://localhost:8080/"
        },
        "id": "EsaYgOkGwKL_",
        "outputId": "9844aa6a-d210-440a-dc72-5e46fc3e916f"
      },
      "outputs": [
        {
          "output_type": "stream",
          "name": "stdout",
          "text": [
            "fatal: destination path 'ds3001group' already exists and is not an empty directory.\n"
          ]
        }
      ],
      "source": [
        "! git clone https://github.com/jtz8xj/ds3001group"
      ]
    },
    {
      "cell_type": "code",
      "source": [
        "#importing files for demographics\n",
        "\n",
        "outcomes = pd.read_excel(\"https://raw.githubusercontent.com/jtz8xj/ds3001group/main/dataverse_files/WinningPartyByCounties.xlsx\")\n",
        "\n",
        "rawdemo2012 = pd.read_excel(\"https://raw.githubusercontent.com/jtz8xj/ds3001group/main/dataverse_files/demographicsallstates2012.xlsx\")\n",
        "rawdemo2016 = pd.read_excel(\"https://raw.githubusercontent.com/jtz8xj/ds3001group/main/dataverse_files/demographicsallstates2016.xlsx\")\n",
        "rawdemo2020 = pd.read_excel(\"https://raw.githubusercontent.com/jtz8xj/ds3001group/main/dataverse_files/demographicsallstates2020.xlsx\")\n",
        "\n",
        "gapoverty = pd.read_csv(\"/content/ds3001group/georgia/gapoverty.csv\")\n",
        "gapoverty = gapoverty.drop([0,1, 38, 39])\n",
        "\n",
        "prediction = pd.read_excel(\"/content/ds3001group/2022data.xlsx\")"
      ],
      "metadata": {
        "id": "z65IQia9yBi9"
      },
      "execution_count": 40,
      "outputs": []
    },
    {
      "cell_type": "code",
      "source": [
        "gaoutcomes = pd.read_excel(\"/content/ds3001group/georgia/georgiaoutcomes.xlsx\")\n",
        "\n",
        "rawdemo2012 = rawdemo2012[rawdemo2012[\"State Name\"] == \"Georgia\"]\n",
        "rawdemo2016 = rawdemo2020[rawdemo2016[\"State Name\"] == \"Georgia\"]\n",
        "rawdemo2020 = rawdemo2020[rawdemo2020[\"State Name\"] == \"Georgia\"]"
      ],
      "metadata": {
        "id": "A8JpMKB75V_s"
      },
      "execution_count": 41,
      "outputs": []
    },
    {
      "cell_type": "code",
      "source": [
        "outcomes2012 = outcomes [outcomes ['year'] == 2012]\n",
        "outcomes2016 = outcomes [outcomes [ 'year']== 2016]\n",
        "outcomes2020 = outcomes [outcomes [ 'year'] == 2020]\n",
        "\n",
        "gapoverty2012 = gapoverty[gapoverty['Year'] == 2012]\n",
        "gapoverty2016 = gapoverty[gapoverty['Year'] == 2016]\n",
        "gapoverty2020 = gapoverty[gapoverty['Year'] == 2020]"
      ],
      "metadata": {
        "id": "5uYztHei7neN"
      },
      "execution_count": 42,
      "outputs": []
    },
    {
      "cell_type": "code",
      "source": [
        "# Merge\n",
        "\n",
        "election2012 = pd.merge(rawdemo2012, gapoverty2012, left_on='County Name', right_on='Name', how='outer') # Merge poverty with demographics\n",
        "election2012 = pd.merge(election2012, outcomes2012, left_on='ID', right_on='county_fips', how='outer') # Merge outcomes with election2012\n",
        "# now have a complete file for 2012\n",
        "\n",
        "election2016 = pd.merge(rawdemo2016, gapoverty2016, left_on='County Name', right_on='Name', how='outer') # Merge poverty with demographics\n",
        "election2016 = pd.merge(election2016, outcomes2016, left_on='ID', right_on='county_fips', how='outer') # Merge outcomes with election2016\n",
        "# now have a complete file for 2016\n",
        "\n",
        "election2020 = pd.merge(rawdemo2020, gapoverty2020, left_on='County Name', right_on='Name', how='outer') # Merge poverty with demographics\n",
        "election2020 = pd.merge(election2020, outcomes2020, left_on='ID', right_on='county_fips', how='outer') # Merge outcomes with election2012\n",
        "# now have a complete file for 2020"
      ],
      "metadata": {
        "id": "Aa0y2IOX8SiE"
      },
      "execution_count": 43,
      "outputs": []
    },
    {
      "cell_type": "code",
      "source": [
        "gaprediction = prediction[prediction['State Name'] == 'Georgia']\n",
        "\n",
        "gaprediction = gaprediction[['County Name','Males Under 18 Percentage','Males 18-24 Percentage','Males 25-34 Percentage',\n",
        "                           'Males 35-44 Percentage', 'Males 45-64 Percentage', 'Males 65+ Percentage', 'Females Under 18 Percentage',\n",
        "                           'Females 18-24 Percentage', 'Females 25-34 Percentage', 'Females 35-44 Percentage', 'Females 45-64 Percentage',\n",
        "                           'Females 65+ Percentage',\n",
        "                           'White alone Percentage', 'Black or African American alone Percentage', 'American Indian and Alaska Native alone Percentage',\n",
        "                           'Asian alone Percentage', 'Native Hawaiian and Other Pacific Islander alone Percentage',\n",
        "                           'Some other race alone Percentage', 'Two or more races Percentage', 'Two or more races: Two races including Some other race Percentage',\n",
        "                           'Two or more races: Two races excluding Some other race, and three or more races Percentage',\n",
        "                           'No schooling completed Percentage', 'Nursery school Percentage','Kindergarten Percentage', '1st grade Percentage', '2nd grade Percentage',\n",
        "                           '3rd grade Percentage', '4th grade Percentage', '5th grade Percentage', '6th grade Percentage', '7th grade Percentage', '8th grade Percentage',\n",
        "                           '9th grade Percentage', '10th grade Percentage', '11th grade Percentage', '12th grade, no diploma Percentage', 'Regular high school diploma Percentage',\n",
        "                           'GED or alternative credential Percentage', 'Some college, less than 1 year Percentage', 'Some college, 1 or more years, no degree Percentage',\n",
        "                           \"Associate's degree Percentage\", \"Bachelor's degree Percentage\", \"Master's degree Percentage\", 'Professional school degree Percentage',\n",
        "                           'Doctorate degree Percentage',\n",
        "                           'less than $39,999 Percentage', '$40,000-$74,999 Percentage', '$75,000-$99,999 Percentage', '$100,000-$149,999 Percentage', '$150,000-$199,999 Percentage', 'more than $200,000 Percentage']]\n",
        "\n",
        "gaprediction.head(10)\n",
        "# Prediction data ready. Missing poverty statistics and median income statistics"
      ],
      "metadata": {
        "id": "S_vNcENm8pO5"
      },
      "execution_count": null,
      "outputs": []
    },
    {
      "cell_type": "code",
      "source": [
        "elections = pd.concat([election2012, election2016, election2020], axis=0, ignore_index=True)\n",
        "finalelections = elections[['County Name','Males Under 18 Percentage','Males 18-24 Percentage','Males 25-34 Percentage',\n",
        "                           'Males 35-44 Percentage', 'Males 45-64 Percentage', 'Males 65+ Percentage', 'Females Under 18 Percentage',\n",
        "                           'Females 18-24 Percentage', 'Females 25-34 Percentage', 'Females 35-44 Percentage', 'Females 45-64 Percentage',\n",
        "                           'Females 65+ Percentage',\n",
        "                           'White alone Percentage', 'Black or African American alone Percentage', 'American Indian and Alaska Native alone Percentage',\n",
        "                           'Asian alone Percentage', 'Native Hawaiian and Other Pacific Islander alone Percentage',\n",
        "                           'Some other race alone Percentage', 'Two or more races Percentage', 'Two or more races: Two races including Some other race Percentage',\n",
        "                           'Two or more races: Two races excluding Some other race, and three or more races Percentage',\n",
        "                           'No schooling completed Percentage', 'Nursery school Percentage','Kindergarten Percentage', '1st grade Percentage', '2nd grade Percentage',\n",
        "                           '3rd grade Percentage', '4th grade Percentage', '5th grade Percentage', '6th grade Percentage', '7th grade Percentage', '8th grade Percentage',\n",
        "                           '9th grade Percentage', '10th grade Percentage', '11th grade Percentage', '12th grade, no diploma Percentage', 'Regular high school diploma Percentage',\n",
        "                           'GED or alternative credential Percentage', 'Some college, less than 1 year Percentage', 'Some college, 1 or more years, no degree Percentage',\n",
        "                           \"Associate's degree Percentage\", \"Bachelor's degree Percentage\", \"Master's degree Percentage\", 'Professional school degree Percentage',\n",
        "                           'Doctorate degree Percentage',\n",
        "                           'less than $39,999 Percentage', '$40,000-$74,999 Percentage', '$75,000-$99,999 Percentage', '$100,000-$149,999 Percentage', '$150,000-$199,999 Percentage', 'more than $200,000 Percentage',\n",
        "                           'party']]"
      ],
      "metadata": {
        "id": "-S5QQmUN8vTz"
      },
      "execution_count": 45,
      "outputs": []
    },
    {
      "cell_type": "code",
      "source": [
        "finalelections['County Name'] = finalelections['County Name'].astype(str)\n",
        "\n",
        "finalelections['County Name'].dtype"
      ],
      "metadata": {
        "colab": {
          "base_uri": "https://localhost:8080/"
        },
        "id": "5uvhMgrNkevn",
        "outputId": "cbb096ed-bbd7-4cae-977e-2c6e39e7e231"
      },
      "execution_count": 47,
      "outputs": [
        {
          "output_type": "stream",
          "name": "stderr",
          "text": [
            "<ipython-input-47-401c653cc7ed>:1: SettingWithCopyWarning: \n",
            "A value is trying to be set on a copy of a slice from a DataFrame.\n",
            "Try using .loc[row_indexer,col_indexer] = value instead\n",
            "\n",
            "See the caveats in the documentation: https://pandas.pydata.org/pandas-docs/stable/user_guide/indexing.html#returning-a-view-versus-a-copy\n",
            "  finalelections['County Name'] = finalelections['County Name'].astype(str)\n"
          ]
        },
        {
          "output_type": "execute_result",
          "data": {
            "text/plain": [
              "dtype('O')"
            ]
          },
          "metadata": {},
          "execution_count": 47
        }
      ]
    },
    {
      "cell_type": "code",
      "source": [
        "# Finding missing data\n",
        "\n",
        "total_nan_count = finalelections.isna().sum().sum()\n",
        "print(\"Total NaNs in the DataFrame:\")\n",
        "print(total_nan_count)\n",
        "\n",
        "columns_with_nan = finalelections.loc[:, finalelections.isna().any(axis=0)]\n",
        "print(\"Columns with NaNs:\")\n",
        "print(columns_with_nan)\n",
        "\n"
      ],
      "metadata": {
        "colab": {
          "base_uri": "https://localhost:8080/"
        },
        "id": "zexCufnDVbHo",
        "outputId": "59c4d81b-f2ea-4f9e-ebd2-f161d7ef89dd"
      },
      "execution_count": 36,
      "outputs": [
        {
          "output_type": "stream",
          "name": "stdout",
          "text": [
            "Total NaNs in the DataFrame:\n",
            "61902\n",
            "Columns with NaNs:\n",
            "        County Name  Males Under 18 Percentage  Males 18-24 Percentage  \\\n",
            "0               NaN                        NaN                     NaN   \n",
            "1               NaN                        NaN                     NaN   \n",
            "2               NaN                        NaN                     NaN   \n",
            "3               NaN                        NaN                     NaN   \n",
            "4               NaN                        NaN                     NaN   \n",
            "...             ...                        ...                     ...   \n",
            "1540            NaN                        NaN                     NaN   \n",
            "1541            NaN                        NaN                     NaN   \n",
            "1542            NaN                        NaN                     NaN   \n",
            "1543    Cook County                   0.271372                0.096309   \n",
            "1544  Coweta County                   0.252435                0.084371   \n",
            "\n",
            "      Males 25-34 Percentage  Males 35-44 Percentage  Males 45-64 Percentage  \\\n",
            "0                        NaN                     NaN                     NaN   \n",
            "1                        NaN                     NaN                     NaN   \n",
            "2                        NaN                     NaN                     NaN   \n",
            "3                        NaN                     NaN                     NaN   \n",
            "4                        NaN                     NaN                     NaN   \n",
            "...                      ...                     ...                     ...   \n",
            "1540                     NaN                     NaN                     NaN   \n",
            "1541                     NaN                     NaN                     NaN   \n",
            "1542                     NaN                     NaN                     NaN   \n",
            "1543                0.107972                0.115787                0.261513   \n",
            "1544                0.124773                0.130468                0.279220   \n",
            "\n",
            "      Males 65+ Percentage  Females Under 18 Percentage  \\\n",
            "0                      NaN                          NaN   \n",
            "1                      NaN                          NaN   \n",
            "2                      NaN                          NaN   \n",
            "3                      NaN                          NaN   \n",
            "4                      NaN                          NaN   \n",
            "...                    ...                          ...   \n",
            "1540                   NaN                          NaN   \n",
            "1541                   NaN                          NaN   \n",
            "1542                   NaN                          NaN   \n",
            "1543              0.147048                     0.238876   \n",
            "1544              0.128734                     0.235161   \n",
            "\n",
            "      Females 18-24 Percentage  Females 25-34 Percentage  ...  \\\n",
            "0                          NaN                       NaN  ...   \n",
            "1                          NaN                       NaN  ...   \n",
            "2                          NaN                       NaN  ...   \n",
            "3                          NaN                       NaN  ...   \n",
            "4                          NaN                       NaN  ...   \n",
            "...                        ...                       ...  ...   \n",
            "1540                       NaN                       NaN  ...   \n",
            "1541                       NaN                       NaN  ...   \n",
            "1542                       NaN                       NaN  ...   \n",
            "1543                  0.083820                  0.121910  ...   \n",
            "1544                  0.079824                  0.122787  ...   \n",
            "\n",
            "      Master's degree Percentage  Professional school degree Percentage  \\\n",
            "0                            NaN                                    NaN   \n",
            "1                            NaN                                    NaN   \n",
            "2                            NaN                                    NaN   \n",
            "3                            NaN                                    NaN   \n",
            "4                            NaN                                    NaN   \n",
            "...                          ...                                    ...   \n",
            "1540                         NaN                                    NaN   \n",
            "1541                         NaN                                    NaN   \n",
            "1542                         NaN                                    NaN   \n",
            "1543                    0.052184                               0.008771   \n",
            "1544                    0.079041                               0.020548   \n",
            "\n",
            "      Doctorate degree Percentage  less than $39,999 Percentage  \\\n",
            "0                             NaN                           NaN   \n",
            "1                             NaN                           NaN   \n",
            "2                             NaN                           NaN   \n",
            "3                             NaN                           NaN   \n",
            "4                             NaN                           NaN   \n",
            "...                           ...                           ...   \n",
            "1540                          NaN                           NaN   \n",
            "1541                          NaN                           NaN   \n",
            "1542                          NaN                           NaN   \n",
            "1543                     0.001240                      0.496775   \n",
            "1544                     0.008795                      0.228834   \n",
            "\n",
            "      $40,000-$74,999 Percentage  $75,000-$99,999 Percentage  \\\n",
            "0                            NaN                         NaN   \n",
            "1                            NaN                         NaN   \n",
            "2                            NaN                         NaN   \n",
            "3                            NaN                         NaN   \n",
            "4                            NaN                         NaN   \n",
            "...                          ...                         ...   \n",
            "1540                         NaN                         NaN   \n",
            "1541                         NaN                         NaN   \n",
            "1542                         NaN                         NaN   \n",
            "1543                    0.258143                    0.112383   \n",
            "1544                    0.238890                    0.148219   \n",
            "\n",
            "      $100,000-$149,999 Percentage  $150,000-$199,999 Percentage  \\\n",
            "0                              NaN                           NaN   \n",
            "1                              NaN                           NaN   \n",
            "2                              NaN                           NaN   \n",
            "3                              NaN                           NaN   \n",
            "4                              NaN                           NaN   \n",
            "...                            ...                           ...   \n",
            "1540                           NaN                           NaN   \n",
            "1541                           NaN                           NaN   \n",
            "1542                           NaN                           NaN   \n",
            "1543                      0.077717                      0.034021   \n",
            "1544                      0.210398                      0.094117   \n",
            "\n",
            "      more than $200,000 Percentage       party  \n",
            "0                               NaN         NaN  \n",
            "1                               NaN    DEMOCRAT  \n",
            "2                               NaN  REPUBLICAN  \n",
            "3                               NaN    DEMOCRAT  \n",
            "4                               NaN  REPUBLICAN  \n",
            "...                             ...         ...  \n",
            "1540                            NaN  REPUBLICAN  \n",
            "1541                            NaN  REPUBLICAN  \n",
            "1542                            NaN  REPUBLICAN  \n",
            "1543                       0.020961         NaN  \n",
            "1544                       0.079542         NaN  \n",
            "\n",
            "[1545 rows x 53 columns]\n"
          ]
        }
      ]
    },
    {
      "cell_type": "code",
      "source": [
        "# Train-test split\n",
        "from sklearn.model_selection import train_test_split\n",
        "\n",
        "# Process data:\n",
        "X = finalelections[['Males Under 18 Percentage','Males 18-24 Percentage','Males 25-34 Percentage',\n",
        "                           'Males 35-44 Percentage', 'Males 45-64 Percentage', 'Males 65+ Percentage', 'Females Under 18 Percentage',\n",
        "                           'Females 18-24 Percentage', 'Females 25-34 Percentage', 'Females 35-44 Percentage', 'Females 45-64 Percentage',\n",
        "                           'Females 65+ Percentage',\n",
        "                           'White alone Percentage', 'Black or African American alone Percentage', 'American Indian and Alaska Native alone Percentage',\n",
        "                           'Asian alone Percentage', 'Native Hawaiian and Other Pacific Islander alone Percentage',\n",
        "                           'Some other race alone Percentage', 'Two or more races Percentage', 'Two or more races: Two races including Some other race Percentage',\n",
        "                           'Two or more races: Two races excluding Some other race, and three or more races Percentage',\n",
        "                           'No schooling completed Percentage', 'Nursery school Percentage','Kindergarten Percentage', '1st grade Percentage', '2nd grade Percentage',\n",
        "                           '3rd grade Percentage', '4th grade Percentage', '5th grade Percentage', '6th grade Percentage', '7th grade Percentage', '8th grade Percentage',\n",
        "                           '9th grade Percentage', '10th grade Percentage', '11th grade Percentage', '12th grade, no diploma Percentage', 'Regular high school diploma Percentage',\n",
        "                           'GED or alternative credential Percentage', 'Some college, less than 1 year Percentage', 'Some college, 1 or more years, no degree Percentage',\n",
        "                           \"Associate's degree Percentage\", \"Bachelor's degree Percentage\", \"Master's degree Percentage\", 'Professional school degree Percentage',\n",
        "                           'Doctorate degree Percentage',\n",
        "                           'less than $39,999 Percentage', '$40,000-$74,999 Percentage', '$75,000-$99,999 Percentage', '$100,000-$149,999 Percentage', '$150,000-$199,999 Percentage', 'more than $200,000 Percentage']]\n",
        "y = finalelections['party']\n",
        "\n",
        "# Train-test split:\n",
        "X_train, X_test, y_train, y_test = train_test_split(X,y,test_size=.2,random_state=100)\n",
        "print(f\"X_train shape: {X_train.shape}\") # got it done"
      ],
      "metadata": {
        "colab": {
          "base_uri": "https://localhost:8080/"
        },
        "id": "rF4L990r0Vhg",
        "outputId": "ed9d1eba-3744-4374-86a6-e2e33d1e0177"
      },
      "execution_count": 35,
      "outputs": [
        {
          "output_type": "stream",
          "name": "stdout",
          "text": [
            "X_train shape: (1236, 51)\n"
          ]
        }
      ]
    },
    {
      "cell_type": "code",
      "source": [
        "# Missing data problem\n",
        "\n",
        "finalelections = finalelections.fillna(0)\n",
        "\n",
        "remaining_nans = finalelections.isna().sum().sum()\n",
        "print(f\"Remaining NaNs after filling with 0: {remaining_nans}\")"
      ],
      "metadata": {
        "colab": {
          "base_uri": "https://localhost:8080/"
        },
        "id": "g-NUsoF5VgFh",
        "outputId": "a640e9ad-aa18-4ce0-b9c0-d7f0f2bbb724"
      },
      "execution_count": 12,
      "outputs": [
        {
          "output_type": "stream",
          "name": "stdout",
          "text": [
            "Remaining NaNs after filling with 0: 0\n"
          ]
        }
      ]
    },
    {
      "cell_type": "code",
      "source": [],
      "metadata": {
        "id": "90EaOd_QZZyH"
      },
      "execution_count": 12,
      "outputs": []
    },
    {
      "cell_type": "code",
      "source": [
        "# Building the model\n",
        "from sklearn.ensemble import RandomForestClassifier\n",
        "\n",
        "X_train = X_train.fillna(X_train.mean())\n",
        "y_train = y_train.fillna(y_train.mode()[0])\n",
        "\n",
        "print(f\"NaNs in x_train: {X_train.isna().sum().sum()}\")\n",
        "print(f\"NaNs in x_train: {y_train.isna().sum().sum()}\")"
      ],
      "metadata": {
        "colab": {
          "base_uri": "https://localhost:8080/"
        },
        "id": "W68_ADeM0Zxj",
        "outputId": "4942f0dc-2b81-4354-dde0-ba8e519edff2"
      },
      "execution_count": 13,
      "outputs": [
        {
          "output_type": "stream",
          "name": "stdout",
          "text": [
            "NaNs in x_train: 0\n",
            "NaNs in x_train: 0\n"
          ]
        }
      ]
    },
    {
      "cell_type": "code",
      "source": [
        "#from sklearn.ensemble import RandomForestRegressor\n",
        "\n",
        "# Fit model:\n",
        "#model = RandomForestRegressor() # Build a random forest model\n",
        "#rf = model.fit(X_train,y_train) # Fit the rf model"
      ],
      "metadata": {
        "id": "Aks5JN9BbruE"
      },
      "execution_count": 31,
      "outputs": []
    },
    {
      "cell_type": "code",
      "source": [
        "# Building the model\n",
        "from sklearn.ensemble import RandomForestRegressor\n",
        "\n",
        "# Fit model:\n",
        "model = RandomForestRegressor() # Build a random forest model\n",
        "rf = model.fit(X_train,y_train) # Fit the rf model"
      ],
      "metadata": {
        "colab": {
          "base_uri": "https://localhost:8080/",
          "height": 308
        },
        "id": "GuOa89sRbWUy",
        "outputId": "6f4a0a0f-b38d-4d57-f9a1-1d8b02af2d2a"
      },
      "execution_count": 32,
      "outputs": [
        {
          "output_type": "error",
          "ename": "ValueError",
          "evalue": "Input contains NaN",
          "traceback": [
            "\u001b[0;31m---------------------------------------------------------------------------\u001b[0m",
            "\u001b[0;31mValueError\u001b[0m                                Traceback (most recent call last)",
            "\u001b[0;32m<ipython-input-32-5ccba70b44d8>\u001b[0m in \u001b[0;36m<cell line: 6>\u001b[0;34m()\u001b[0m\n\u001b[1;32m      4\u001b[0m \u001b[0;31m# Fit model:\u001b[0m\u001b[0;34m\u001b[0m\u001b[0;34m\u001b[0m\u001b[0m\n\u001b[1;32m      5\u001b[0m \u001b[0mmodel\u001b[0m \u001b[0;34m=\u001b[0m \u001b[0mRandomForestRegressor\u001b[0m\u001b[0;34m(\u001b[0m\u001b[0;34m)\u001b[0m \u001b[0;31m# Build a random forest model\u001b[0m\u001b[0;34m\u001b[0m\u001b[0;34m\u001b[0m\u001b[0m\n\u001b[0;32m----> 6\u001b[0;31m \u001b[0mrf\u001b[0m \u001b[0;34m=\u001b[0m \u001b[0mmodel\u001b[0m\u001b[0;34m.\u001b[0m\u001b[0mfit\u001b[0m\u001b[0;34m(\u001b[0m\u001b[0mX_train\u001b[0m\u001b[0;34m,\u001b[0m\u001b[0my_train\u001b[0m\u001b[0;34m)\u001b[0m \u001b[0;31m# Fit the rf model\u001b[0m\u001b[0;34m\u001b[0m\u001b[0;34m\u001b[0m\u001b[0m\n\u001b[0m",
            "\u001b[0;32m/usr/local/lib/python3.10/dist-packages/sklearn/base.py\u001b[0m in \u001b[0;36mwrapper\u001b[0;34m(estimator, *args, **kwargs)\u001b[0m\n\u001b[1;32m   1471\u001b[0m                 )\n\u001b[1;32m   1472\u001b[0m             ):\n\u001b[0;32m-> 1473\u001b[0;31m                 \u001b[0;32mreturn\u001b[0m \u001b[0mfit_method\u001b[0m\u001b[0;34m(\u001b[0m\u001b[0mestimator\u001b[0m\u001b[0;34m,\u001b[0m \u001b[0;34m*\u001b[0m\u001b[0margs\u001b[0m\u001b[0;34m,\u001b[0m \u001b[0;34m**\u001b[0m\u001b[0mkwargs\u001b[0m\u001b[0;34m)\u001b[0m\u001b[0;34m\u001b[0m\u001b[0;34m\u001b[0m\u001b[0m\n\u001b[0m\u001b[1;32m   1474\u001b[0m \u001b[0;34m\u001b[0m\u001b[0m\n\u001b[1;32m   1475\u001b[0m         \u001b[0;32mreturn\u001b[0m \u001b[0mwrapper\u001b[0m\u001b[0;34m\u001b[0m\u001b[0;34m\u001b[0m\u001b[0m\n",
            "\u001b[0;32m/usr/local/lib/python3.10/dist-packages/sklearn/ensemble/_forest.py\u001b[0m in \u001b[0;36mfit\u001b[0;34m(self, X, y, sample_weight)\u001b[0m\n\u001b[1;32m    361\u001b[0m             \u001b[0;32mraise\u001b[0m \u001b[0mValueError\u001b[0m\u001b[0;34m(\u001b[0m\u001b[0;34m\"sparse multilabel-indicator for y is not supported.\"\u001b[0m\u001b[0;34m)\u001b[0m\u001b[0;34m\u001b[0m\u001b[0;34m\u001b[0m\u001b[0m\n\u001b[1;32m    362\u001b[0m \u001b[0;34m\u001b[0m\u001b[0m\n\u001b[0;32m--> 363\u001b[0;31m         X, y = self._validate_data(\n\u001b[0m\u001b[1;32m    364\u001b[0m             \u001b[0mX\u001b[0m\u001b[0;34m,\u001b[0m\u001b[0;34m\u001b[0m\u001b[0;34m\u001b[0m\u001b[0m\n\u001b[1;32m    365\u001b[0m             \u001b[0my\u001b[0m\u001b[0;34m,\u001b[0m\u001b[0;34m\u001b[0m\u001b[0;34m\u001b[0m\u001b[0m\n",
            "\u001b[0;32m/usr/local/lib/python3.10/dist-packages/sklearn/base.py\u001b[0m in \u001b[0;36m_validate_data\u001b[0;34m(self, X, y, reset, validate_separately, cast_to_ndarray, **check_params)\u001b[0m\n\u001b[1;32m    648\u001b[0m                 \u001b[0my\u001b[0m \u001b[0;34m=\u001b[0m \u001b[0mcheck_array\u001b[0m\u001b[0;34m(\u001b[0m\u001b[0my\u001b[0m\u001b[0;34m,\u001b[0m \u001b[0minput_name\u001b[0m\u001b[0;34m=\u001b[0m\u001b[0;34m\"y\"\u001b[0m\u001b[0;34m,\u001b[0m \u001b[0;34m**\u001b[0m\u001b[0mcheck_y_params\u001b[0m\u001b[0;34m)\u001b[0m\u001b[0;34m\u001b[0m\u001b[0;34m\u001b[0m\u001b[0m\n\u001b[1;32m    649\u001b[0m             \u001b[0;32melse\u001b[0m\u001b[0;34m:\u001b[0m\u001b[0;34m\u001b[0m\u001b[0;34m\u001b[0m\u001b[0m\n\u001b[0;32m--> 650\u001b[0;31m                 \u001b[0mX\u001b[0m\u001b[0;34m,\u001b[0m \u001b[0my\u001b[0m \u001b[0;34m=\u001b[0m \u001b[0mcheck_X_y\u001b[0m\u001b[0;34m(\u001b[0m\u001b[0mX\u001b[0m\u001b[0;34m,\u001b[0m \u001b[0my\u001b[0m\u001b[0;34m,\u001b[0m \u001b[0;34m**\u001b[0m\u001b[0mcheck_params\u001b[0m\u001b[0;34m)\u001b[0m\u001b[0;34m\u001b[0m\u001b[0;34m\u001b[0m\u001b[0m\n\u001b[0m\u001b[1;32m    651\u001b[0m             \u001b[0mout\u001b[0m \u001b[0;34m=\u001b[0m \u001b[0mX\u001b[0m\u001b[0;34m,\u001b[0m \u001b[0my\u001b[0m\u001b[0;34m\u001b[0m\u001b[0;34m\u001b[0m\u001b[0m\n\u001b[1;32m    652\u001b[0m \u001b[0;34m\u001b[0m\u001b[0m\n",
            "\u001b[0;32m/usr/local/lib/python3.10/dist-packages/sklearn/utils/validation.py\u001b[0m in \u001b[0;36mcheck_X_y\u001b[0;34m(X, y, accept_sparse, accept_large_sparse, dtype, order, copy, force_writeable, force_all_finite, ensure_2d, allow_nd, multi_output, ensure_min_samples, ensure_min_features, y_numeric, estimator)\u001b[0m\n\u001b[1;32m   1316\u001b[0m     )\n\u001b[1;32m   1317\u001b[0m \u001b[0;34m\u001b[0m\u001b[0m\n\u001b[0;32m-> 1318\u001b[0;31m     \u001b[0my\u001b[0m \u001b[0;34m=\u001b[0m \u001b[0m_check_y\u001b[0m\u001b[0;34m(\u001b[0m\u001b[0my\u001b[0m\u001b[0;34m,\u001b[0m \u001b[0mmulti_output\u001b[0m\u001b[0;34m=\u001b[0m\u001b[0mmulti_output\u001b[0m\u001b[0;34m,\u001b[0m \u001b[0my_numeric\u001b[0m\u001b[0;34m=\u001b[0m\u001b[0my_numeric\u001b[0m\u001b[0;34m,\u001b[0m \u001b[0mestimator\u001b[0m\u001b[0;34m=\u001b[0m\u001b[0mestimator\u001b[0m\u001b[0;34m)\u001b[0m\u001b[0;34m\u001b[0m\u001b[0;34m\u001b[0m\u001b[0m\n\u001b[0m\u001b[1;32m   1319\u001b[0m \u001b[0;34m\u001b[0m\u001b[0m\n\u001b[1;32m   1320\u001b[0m     \u001b[0mcheck_consistent_length\u001b[0m\u001b[0;34m(\u001b[0m\u001b[0mX\u001b[0m\u001b[0;34m,\u001b[0m \u001b[0my\u001b[0m\u001b[0;34m)\u001b[0m\u001b[0;34m\u001b[0m\u001b[0;34m\u001b[0m\u001b[0m\n",
            "\u001b[0;32m/usr/local/lib/python3.10/dist-packages/sklearn/utils/validation.py\u001b[0m in \u001b[0;36m_check_y\u001b[0;34m(y, multi_output, y_numeric, estimator)\u001b[0m\n\u001b[1;32m   1326\u001b[0m     \u001b[0;34m\"\"\"Isolated part of check_X_y dedicated to y validation\"\"\"\u001b[0m\u001b[0;34m\u001b[0m\u001b[0;34m\u001b[0m\u001b[0m\n\u001b[1;32m   1327\u001b[0m     \u001b[0;32mif\u001b[0m \u001b[0mmulti_output\u001b[0m\u001b[0;34m:\u001b[0m\u001b[0;34m\u001b[0m\u001b[0;34m\u001b[0m\u001b[0m\n\u001b[0;32m-> 1328\u001b[0;31m         y = check_array(\n\u001b[0m\u001b[1;32m   1329\u001b[0m             \u001b[0my\u001b[0m\u001b[0;34m,\u001b[0m\u001b[0;34m\u001b[0m\u001b[0;34m\u001b[0m\u001b[0m\n\u001b[1;32m   1330\u001b[0m             \u001b[0maccept_sparse\u001b[0m\u001b[0;34m=\u001b[0m\u001b[0;34m\"csr\"\u001b[0m\u001b[0;34m,\u001b[0m\u001b[0;34m\u001b[0m\u001b[0;34m\u001b[0m\u001b[0m\n",
            "\u001b[0;32m/usr/local/lib/python3.10/dist-packages/sklearn/utils/validation.py\u001b[0m in \u001b[0;36mcheck_array\u001b[0;34m(array, accept_sparse, accept_large_sparse, dtype, order, copy, force_writeable, force_all_finite, ensure_2d, allow_nd, ensure_min_samples, ensure_min_features, estimator, input_name)\u001b[0m\n\u001b[1;32m   1062\u001b[0m \u001b[0;34m\u001b[0m\u001b[0m\n\u001b[1;32m   1063\u001b[0m         \u001b[0;32mif\u001b[0m \u001b[0mforce_all_finite\u001b[0m\u001b[0;34m:\u001b[0m\u001b[0;34m\u001b[0m\u001b[0;34m\u001b[0m\u001b[0m\n\u001b[0;32m-> 1064\u001b[0;31m             _assert_all_finite(\n\u001b[0m\u001b[1;32m   1065\u001b[0m                 \u001b[0marray\u001b[0m\u001b[0;34m,\u001b[0m\u001b[0;34m\u001b[0m\u001b[0;34m\u001b[0m\u001b[0m\n\u001b[1;32m   1066\u001b[0m                 \u001b[0minput_name\u001b[0m\u001b[0;34m=\u001b[0m\u001b[0minput_name\u001b[0m\u001b[0;34m,\u001b[0m\u001b[0;34m\u001b[0m\u001b[0;34m\u001b[0m\u001b[0m\n",
            "\u001b[0;32m/usr/local/lib/python3.10/dist-packages/sklearn/utils/validation.py\u001b[0m in \u001b[0;36m_assert_all_finite\u001b[0;34m(X, allow_nan, msg_dtype, estimator_name, input_name)\u001b[0m\n\u001b[1;32m    106\u001b[0m     \u001b[0;32mif\u001b[0m \u001b[0;32mnot\u001b[0m \u001b[0mis_array_api\u001b[0m \u001b[0;32mand\u001b[0m \u001b[0mX\u001b[0m\u001b[0;34m.\u001b[0m\u001b[0mdtype\u001b[0m \u001b[0;34m==\u001b[0m \u001b[0mnp\u001b[0m\u001b[0;34m.\u001b[0m\u001b[0mdtype\u001b[0m\u001b[0;34m(\u001b[0m\u001b[0;34m\"object\"\u001b[0m\u001b[0;34m)\u001b[0m \u001b[0;32mand\u001b[0m \u001b[0;32mnot\u001b[0m \u001b[0mallow_nan\u001b[0m\u001b[0;34m:\u001b[0m\u001b[0;34m\u001b[0m\u001b[0;34m\u001b[0m\u001b[0m\n\u001b[1;32m    107\u001b[0m         \u001b[0;32mif\u001b[0m \u001b[0m_object_dtype_isnan\u001b[0m\u001b[0;34m(\u001b[0m\u001b[0mX\u001b[0m\u001b[0;34m)\u001b[0m\u001b[0;34m.\u001b[0m\u001b[0many\u001b[0m\u001b[0;34m(\u001b[0m\u001b[0;34m)\u001b[0m\u001b[0;34m:\u001b[0m\u001b[0;34m\u001b[0m\u001b[0;34m\u001b[0m\u001b[0m\n\u001b[0;32m--> 108\u001b[0;31m             \u001b[0;32mraise\u001b[0m \u001b[0mValueError\u001b[0m\u001b[0;34m(\u001b[0m\u001b[0;34m\"Input contains NaN\"\u001b[0m\u001b[0;34m)\u001b[0m\u001b[0;34m\u001b[0m\u001b[0;34m\u001b[0m\u001b[0m\n\u001b[0m\u001b[1;32m    109\u001b[0m \u001b[0;34m\u001b[0m\u001b[0m\n\u001b[1;32m    110\u001b[0m     \u001b[0;31m# We need only consider float arrays, hence can early return for all else.\u001b[0m\u001b[0;34m\u001b[0m\u001b[0;34m\u001b[0m\u001b[0m\n",
            "\u001b[0;31mValueError\u001b[0m: Input contains NaN"
          ]
        }
      ]
    }
  ]
}